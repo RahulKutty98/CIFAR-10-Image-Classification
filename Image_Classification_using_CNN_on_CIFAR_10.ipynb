{
 "cells": [
  {
   "cell_type": "code",
   "execution_count": 2,
   "metadata": {
    "id": "-Wy_osmSQJ0M"
   },
   "outputs": [],
   "source": [
    "import tensorflow as tf\n",
    "import matplotlib.pyplot as plt"
   ]
  },
  {
   "cell_type": "code",
   "execution_count": 3,
   "metadata": {
    "id": "z3WYHpUPQQ8Z"
   },
   "outputs": [],
   "source": [
    "from tensorflow.keras.datasets import cifar10"
   ]
  },
  {
   "cell_type": "markdown",
   "metadata": {
    "id": "yV6OfwtVQwZB"
   },
   "source": [
    "Loading the dataset"
   ]
  },
  {
   "cell_type": "code",
   "execution_count": 4,
   "metadata": {
    "id": "r3kSDYHMQ6Zm"
   },
   "outputs": [],
   "source": [
    "# setting class names\n",
    "class_names=['airplane','automobile','bird','cat','deer','dog','frog','horse','ship','truck']\n",
    "#loading the dataset\n",
    "(x_train,y_train),(x_test,y_test)=cifar10.load_data()"
   ]
  },
  {
   "cell_type": "markdown",
   "metadata": {
    "id": "iyo4UHRWRA75"
   },
   "source": [
    "Normalizing the Images"
   ]
  },
  {
   "cell_type": "code",
   "execution_count": 13,
   "metadata": {
    "colab": {
     "base_uri": "https://localhost:8080/"
    },
    "id": "5EpJgrZIRFSo",
    "outputId": "7fef6069-4cac-4b45-f38d-9575b8ece2e8"
   },
   "outputs": [
    {
     "data": {
      "text/plain": [
       "(50000, 32, 32, 3)"
      ]
     },
     "execution_count": 13,
     "metadata": {},
     "output_type": "execute_result"
    }
   ],
   "source": [
    "x_train=x_train/255.0\n",
    "x_train.shape"
   ]
  },
  {
   "cell_type": "code",
   "execution_count": 6,
   "metadata": {
    "colab": {
     "base_uri": "https://localhost:8080/"
    },
    "id": "az6oxcVsRG-I",
    "outputId": "0c58bd07-556b-4857-e561-b4508b9bc651"
   },
   "outputs": [
    {
     "data": {
      "text/plain": [
       "(10000, 32, 32, 3)"
      ]
     },
     "execution_count": 6,
     "metadata": {},
     "output_type": "execute_result"
    }
   ],
   "source": [
    "x_test=x_test/255.0\n",
    "x_test.shape"
   ]
  },
  {
   "cell_type": "markdown",
   "metadata": {
    "id": "BMVYTyVERSLa"
   },
   "source": [
    "Randomly Checking an Image"
   ]
  },
  {
   "cell_type": "code",
   "execution_count": 14,
   "metadata": {
    "colab": {
     "base_uri": "https://localhost:8080/",
     "height": 283
    },
    "id": "nAs_UdfVRVjf",
    "outputId": "48d2b412-19ba-4aa4-c0f4-e418353cd234"
   },
   "outputs": [
    {
     "data": {
      "text/plain": [
       "<matplotlib.image.AxesImage at 0x22a0037b3a0>"
      ]
     },
     "execution_count": 14,
     "metadata": {},
     "output_type": "execute_result"
    },
    {
     "data": {
      "image/png": "[encoded data removed]",
      "text/plain": [
       "<Figure size 432x288 with 1 Axes>"
      ]
     },
     "metadata": {
      "needs_background": "light"
     },
     "output_type": "display_data"
    }
   ],
   "source": [
    "plt.imshow(x_test[40])"
   ]
  },
  {
   "cell_type": "markdown",
   "metadata": {
    "id": "fOy2Q4k1SMFq"
   },
   "source": [
    "Building a Convolutional Neural Network"
   ]
  },
  {
   "cell_type": "code",
   "execution_count": 15,
   "metadata": {
    "id": "bzsJ72nVUW8o"
   },
   "outputs": [],
   "source": [
    "cifar10_model = tf.keras.models.Sequential(\n",
    "    [\n",
    "        # First Layer\n",
    "        tf.keras.layers.Conv2D(filters=32,kernel_size=3,padding=\"same\", activation=\"relu\", input_shape=[32,32,3]),\n",
    "        # Second Layer\n",
    "        tf.keras.layers.Conv2D(filters=32,kernel_size=3,padding=\"same\", activation=\"relu\"),\n",
    "        # Max Pooling Layer\n",
    "        tf.keras.layers.MaxPool2D(pool_size=2,strides=2,padding='valid'),\n",
    "        # Third Layer\n",
    "        tf.keras.layers.Conv2D(filters=64,kernel_size=3,padding=\"same\", activation=\"relu\"),\n",
    "        # Fourth Layer\n",
    "        tf.keras.layers.Conv2D(filters=64,kernel_size=3,padding=\"same\", activation=\"relu\"),\n",
    "        # Max Pooling Layer\n",
    "        tf.keras.layers.MaxPool2D(pool_size=2,strides=2,padding='valid'),\n",
    "        # Flattening Layer\n",
    "        tf.keras.layers.Flatten(),\n",
    "        # Droput Layer\n",
    "        tf.keras.layers.Dropout(0.5,noise_shape=None,seed=None),\n",
    "        # Adding the first fully connected layer\n",
    "        tf.keras.layers.Dense(units=128,activation='relu'),\n",
    "        # Output Layer\n",
    "        tf.keras.layers.Dense(units=10,activation='softmax')\n",
    "    ]\n",
    ")"
   ]
  },
  {
   "cell_type": "code",
   "execution_count": 16,
   "metadata": {
    "colab": {
     "base_uri": "https://localhost:8080/"
    },
    "id": "_Yt866rrVy43",
    "outputId": "cd896e3f-4f2a-4f44-d78c-97e54b348ed0"
   },
   "outputs": [
    {
     "name": "stdout",
     "output_type": "stream",
     "text": [
      "Model: \"sequential\"\n",
      "_________________________________________________________________\n",
      " Layer (type)                Output Shape              Param #   \n",
      "=================================================================\n",
      " conv2d (Conv2D)             (None, 32, 32, 32)        896       \n",
      "                                                                 \n",
      " conv2d_1 (Conv2D)           (None, 32, 32, 32)        9248      \n",
      "                                                                 \n",
      " max_pooling2d (MaxPooling2D  (None, 16, 16, 32)       0         \n",
      " )                                                               \n",
      "                                                                 \n",
      " conv2d_2 (Conv2D)           (None, 16, 16, 64)        18496     \n",
      "                                                                 \n",
      " conv2d_3 (Conv2D)           (None, 16, 16, 64)        36928     \n",
      "                                                                 \n",
      " max_pooling2d_1 (MaxPooling  (None, 8, 8, 64)         0         \n",
      " 2D)                                                             \n",
      "                                                                 \n",
      " flatten (Flatten)           (None, 4096)              0         \n",
      "                                                                 \n",
      " dropout (Dropout)           (None, 4096)              0         \n",
      "                                                                 \n",
      " dense (Dense)               (None, 128)               524416    \n",
      "                                                                 \n",
      " dense_1 (Dense)             (None, 10)                1290      \n",
      "                                                                 \n",
      "=================================================================\n",
      "Total params: 591,274\n",
      "Trainable params: 591,274\n",
      "Non-trainable params: 0\n",
      "_________________________________________________________________\n"
     ]
    }
   ],
   "source": [
    "cifar10_model.summary()"
   ]
  },
  {
   "cell_type": "markdown",
   "metadata": {
    "id": "8PF7SCySX8jj"
   },
   "source": [
    "Compiling the Model"
   ]
  },
  {
   "cell_type": "code",
   "execution_count": 17,
   "metadata": {
    "id": "KhF0G0jzX9_P"
   },
   "outputs": [],
   "source": [
    "cifar10_model.compile(loss=\"sparse_categorical_crossentropy\", optimizer=\"Adam\", metrics=[\"sparse_categorical_accuracy\"])"
   ]
  },
  {
   "cell_type": "markdown",
   "metadata": {
    "id": "nhqCCuNjYBZz"
   },
   "source": [
    "Training the Model"
   ]
  },
  {
   "cell_type": "code",
   "execution_count": null,
   "metadata": {
    "colab": {
     "base_uri": "https://localhost:8080/"
    },
    "id": "HZAieXRpYCWp",
    "outputId": "c5e1c94a-8c0d-4c1b-ac35-37abba9e6f40"
   },
   "outputs": [
    {
     "name": "stdout",
     "output_type": "stream",
     "text": [
      "Epoch 1/15\n",
      "1563/1563 [==============================] - 270s 172ms/step - loss: 1.3892 - sparse_categorical_accuracy: 0.4979\n",
      "Epoch 2/15\n",
      "1563/1563 [==============================] - 266s 170ms/step - loss: 0.9857 - sparse_categorical_accuracy: 0.6510\n",
      "Epoch 3/15\n",
      "1563/1563 [==============================] - 274s 175ms/step - loss: 0.8322 - sparse_categorical_accuracy: 0.7058\n",
      "Epoch 4/15\n",
      "1563/1563 [==============================] - 278s 178ms/step - loss: 0.7372 - sparse_categorical_accuracy: 0.7409\n",
      "Epoch 5/15\n",
      "1563/1563 [==============================] - 278s 178ms/step - loss: 0.6748 - sparse_categorical_accuracy: 0.7624\n",
      "Epoch 6/15\n",
      "1563/1563 [==============================] - 281s 180ms/step - loss: 0.6180 - sparse_categorical_accuracy: 0.7819\n",
      "Epoch 7/15\n",
      "1563/1563 [==============================] - 284s 182ms/step - loss: 0.5723 - sparse_categorical_accuracy: 0.7976\n",
      "Epoch 8/15\n",
      "1563/1563 [==============================] - 281s 180ms/step - loss: 0.5265 - sparse_categorical_accuracy: 0.8135\n",
      "Epoch 9/15\n",
      "1563/1563 [==============================] - 278s 178ms/step - loss: 0.4952 - sparse_categorical_accuracy: 0.8243\n",
      "Epoch 10/15\n",
      "1563/1563 [==============================] - 282s 180ms/step - loss: 0.4707 - sparse_categorical_accuracy: 0.8312\n",
      "Epoch 11/15\n",
      "1563/1563 [==============================] - 282s 181ms/step - loss: 0.4434 - sparse_categorical_accuracy: 0.8412\n",
      "Epoch 12/15\n",
      "1563/1563 [==============================] - 284s 182ms/step - loss: 0.4235 - sparse_categorical_accuracy: 0.8491\n",
      "Epoch 13/15\n",
      "1563/1563 [==============================] - 290s 185ms/step - loss: 0.4049 - sparse_categorical_accuracy: 0.8556\n",
      "Epoch 14/15\n",
      "1563/1563 [==============================] - 288s 184ms/step - loss: 0.3802 - sparse_categorical_accuracy: 0.8645\n",
      "Epoch 15/15\n",
      "1563/1563 [==============================] - 285s 182ms/step - loss: 0.3639 - sparse_categorical_accuracy: 0.8690\n"
     ]
    },
    {
     "data": {
      "text/plain": [
       "<keras.callbacks.History at 0x7f2ad9e0d1d0>"
      ]
     },
     "execution_count": 10,
     "metadata": {},
     "output_type": "execute_result"
    }
   ],
   "source": [
    "cifar10_model.fit(x_train,y_train,epochs=15)"
   ]
  },
  {
   "cell_type": "code",
   "execution_count": null,
   "metadata": {
    "colab": {
     "base_uri": "https://localhost:8080/"
    },
    "id": "temyaMgVYDfR",
    "outputId": "652686ba-47ac-4bab-a3b5-0e582e47b0db"
   },
   "outputs": [
    {
     "name": "stdout",
     "output_type": "stream",
     "text": [
      "313/313 [==============================] - 15s 47ms/step - loss: 0.6896 - sparse_categorical_accuracy: 0.7835\n"
     ]
    }
   ],
   "source": [
    "test_loss, test_accuracy = cifar10_model.evaluate(x_test, y_test)"
   ]
  },
  {
   "cell_type": "code",
   "execution_count": null,
   "metadata": {
    "colab": {
     "base_uri": "https://localhost:8080/"
    },
    "id": "nzEKtWlvYib7",
    "outputId": "c8f36585-6d1c-4e9f-9ab8-ad4693772f65"
   },
   "outputs": [
    {
     "name": "stdout",
     "output_type": "stream",
     "text": [
      "Test accuracy: 0.7835000157356262\n"
     ]
    }
   ],
   "source": [
    "print(\"Test accuracy: {}\".format(test_accuracy))"
   ]
  },
  {
   "cell_type": "code",
   "execution_count": null,
   "metadata": {
    "id": "UoUmQi2loSMb"
   },
   "outputs": [],
   "source": []
  }
 ],
 "metadata": {
  "colab": {
   "collapsed_sections": [],
   "name": "Image Classification using CNN on CIFAR-10.ipynb",
   "provenance": []
  },
  "kernelspec": {
   "display_name": "Python 3 (ipykernel)",
   "language": "python",
   "name": "python3"
  },
  "language_info": {
   "codemirror_mode": {
    "name": "ipython",
    "version": 3
   },
   "file_extension": ".py",
   "mimetype": "text/x-python",
   "name": "python",
   "nbconvert_exporter": "python",
   "pygments_lexer": "ipython3",
   "version": "3.9.7"
  }
 },
 "nbformat": 4,
 "nbformat_minor": 1
}
